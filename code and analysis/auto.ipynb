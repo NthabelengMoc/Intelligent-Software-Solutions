{
 "cells": [
  {
   "cell_type": "code",
   "execution_count": null,
   "id": "042b80da",
   "metadata": {
    "vscode": {
     "languageId": "plaintext"
    }
   },
   "outputs": [],
   "source": [
    "def dictionary_sort(list_of_dicts, key):\n",
    "  \"\"\"\n",
    "  Sorts a list of dictionaries by a specific key.\n",
    "\n",
    "  Args:\n",
    "    list_of_dicts: The list of dictionaries to sort.\n",
    "    key: The key to sort by.\n",
    "\n",
    "  Returns:\n",
    "    A new list of dictionaries sorted by the specified key.\n",
    "  \"\"\"\n",
    "  return sorted(list_of_dicts, key=lambda x: x[key])\n",
    "\n",
    "sample_list = [{'name': 'Wandile', 'age': 21}, {'name': 'Edwin', 'age': 20}, {'name': 'Betty', 'age': 22}, {'name': 'Nthabaleng', 'age': 24}, {'name': 'Innocent', 'age': 23}]\n",
    "sorted_list = dictionary_sort(sample_list, 'name')\n",
    "for item in sorted_list:\n",
    "  print(item)"
   ]
  },
  {
   "cell_type": "code",
   "execution_count": null,
   "id": "3f24ec3a",
   "metadata": {
    "vscode": {
     "languageId": "plaintext"
    }
   },
   "outputs": [],
   "source": [
    "sample_list = [{'name': 'Wandile', 'age': 21}, {'name': 'Edwin', 'age': 20}, {'name': 'Betty', 'age': 22}, {'name': 'Nthabaleng', 'age': 24}, {'name': 'Innocent', 'age': 23}]\n",
    "sorted_list = dictionary_sort(sample_list, 'name')\n",
    "for item in sorted_list:\n",
    "  print(item)"
   ]
  }
 ],
 "metadata": {
  "language_info": {
   "name": "python"
  }
 },
 "nbformat": 4,
 "nbformat_minor": 5
}
