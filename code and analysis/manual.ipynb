{
 "cells": [
  {
   "cell_type": "code",
   "execution_count": null,
   "id": "d312d782",
   "metadata": {},
   "outputs": [],
   "source": []
  },
  {
   "cell_type": "code",
   "execution_count": null,
   "id": "829568f2",
   "metadata": {},
   "outputs": [],
   "source": [
    "# Manually written function to sort dictionaries by key using selection sort\n",
    "def manual_sort_dicts_by_key(data, key):\n",
    "    \"\"\"\n",
    "    Manually sorts a list of dictionaries using selection sort.\n",
    "\n",
    "    Parameters:\n",
    "    data (list): A list of dictionaries to sort.\n",
    "    key (str): The key within the dictionaries to sort by.\n",
    "\n",
    "    Returns:\n",
    "    list: A new list sorted by the specified key.\n",
    "    \"\"\"\n",
    "    sorted_list = data.copy()  # Avoid mutating the original\n",
    "    for i in range(len(sorted_list)):\n",
    "        min_index = i\n",
    "        for j in range(i + 1, len(sorted_list)):\n",
    "            if sorted_list[j].get(key, 0) < sorted_list[min_index].get(key, 0):\n",
    "                min_index = j\n",
    "        sorted_list[i], sorted_list[min_index] = sorted_list[min_index], sorted_list[i]\n",
    "    return sorted_list\n",
    "\n",
    "# Example usage\n",
    "people = [\n",
    "    {\"name\": \"Edwin\", \"age\": 19},\n",
    "    {\"name\": \"Betty\", \"age\": 21},\n",
    "    {\"name\": \"Innocent\", \"age\": 23},\n",
    "    {\"name\": \"Wandile\", \"age\": 25},\n",
    "    {\"name\": \"Nthabeleng\", \"age\": 22}\n",
    "]\n",
    "\n",
    "sorted_people_manual = manual_sort_dicts_by_key(people, \"age\")\n",
    "print(sorted_people_manual)\n"
   ]
  },
  {
   "cell_type": "code",
   "execution_count": null,
   "id": "311cee41",
   "metadata": {},
   "outputs": [],
   "source": []
  }
 ],
 "metadata": {
  "language_info": {
   "name": "python"
  }
 },
 "nbformat": 4,
 "nbformat_minor": 5
}
